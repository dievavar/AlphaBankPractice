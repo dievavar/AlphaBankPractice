{
 "cells": [
  {
   "cell_type": "markdown",
   "id": "5847826a-c620-4f6d-b974-86e52a1fcd8c",
   "metadata": {},
   "source": [
    "**Задача кредитного скоринга**\n"
   ]
  },
  {
   "cell_type": "markdown",
   "id": "cd8743e8-204d-497e-b59b-d8b4c6b77676",
   "metadata": {},
   "source": [
    "Данные:\n",
    "У тебя имеются следующие файлы:\n",
    "– jsons.zip, в котором находится директория jsons. В ней лежат json файлы, каждый из которых представляет собой вызов определенной модели. Известно, что кроме вызовов исследуемой нами модели (под идентификатором 'pd-auto-online'), там лежат и вызовы других моделей.\n",
    " \n",
    "\n",
    "Каждый json имеет следующую структуру: \n",
    " \n",
    "\n",
    " {\n",
    "\"requestID\": \"0000509ba192227041cc6c39035540f7\", \n",
    "\"eventTime\": \"2024-06-15 00:40:01.483000\", \n",
    "\"loanID\": \"CC20240615b841\",\n",
    " \"modelID\": \"pd-cc-online\", \n",
    "\"values\": {\"pd\": 0.1}\n",
    "}\n",
    " \n",
    "\n",
    "Внутри поля values исследуемой модели находится вложенная структура с полями final_model_score, internal_model_score, external_model_score — значение финального скора, внутреннего скора Альфа-Банка и внешнего скора телекома соответственно.\n",
    " \n",
    "\n",
    "– deal_delqs_logs.pq — выгрузка данных о выходе клиентов в просрочку. Источник имеет следующие поля:\n",
    "'loan_id' — идентификатор сделки, по которой было зафиксировано событие выхода в просрочку;\n",
    "‘period_start_date’ — дата начала периода просрочки;\n",
    "‘period_end_date’ — дата конца периода просрочки. Для случаев, когда сделка всё ещё находится в состоянии дефолта, имеет значение максимально возможной даты"
   ]
  },
  {
   "cell_type": "code",
   "execution_count": null,
   "id": "1bf2b0cc-7e5e-4a0c-bea7-175e8a224e91",
   "metadata": {},
   "outputs": [],
   "source": []
  },
  {
   "cell_type": "code",
   "execution_count": null,
   "id": "45a17756-79c6-4c61-9581-dfe45a809d82",
   "metadata": {},
   "outputs": [],
   "source": []
  },
  {
   "cell_type": "code",
   "execution_count": null,
   "id": "7a7dff7f-b907-43a5-bc21-a874ab3b2228",
   "metadata": {},
   "outputs": [],
   "source": []
  },
  {
   "cell_type": "code",
   "execution_count": null,
   "id": "edfcde57-ebff-47e2-bbf4-98367048cf23",
   "metadata": {},
   "outputs": [],
   "source": []
  },
  {
   "cell_type": "code",
   "execution_count": null,
   "id": "ae63973b-f102-456a-a1e9-393c9eadfc7c",
   "metadata": {},
   "outputs": [],
   "source": []
  },
  {
   "cell_type": "code",
   "execution_count": 5,
   "id": "69d02e8f-6836-4bb5-8c9a-c5eae6b0d251",
   "metadata": {},
   "outputs": [],
   "source": [
    "from sklearn.metrics import roc_auc_score\n",
    "from scipy.stats import norm\n",
    "import os\n",
    "import json\n",
    "import pandas as pd\n",
    "from datetime import datetime, timedelta"
   ]
  },
  {
   "cell_type": "markdown",
   "id": "73276d86-d0de-444b-85e1-5ac2ecb8317d",
   "metadata": {},
   "source": [
    "Сформируй необходимый набор данных для расчёта метрик: достань все json файлы вызовов исследуемой модели, для каждой заявки (1 вызов = 1 заявка) сформируй флаг выхода в просрочку. Флаг положительный тогда, когда клиент имеет просрочку более 30 дней, которая произошла в период между датой скоринга и датой скоринга плюс 4 месяца. \n",
    "\n",
    "Необходимо получить датафрейм, где:\n",
    "\n",
    "-каждая строка — это один вызов модели pd-auto-online;\n",
    "\n",
    "-есть скоринговые значения (final_model_score, internal_model_score, external_model_score);\n",
    "\n",
    "-есть флаг default_flag = 1, если клиент вышел в дефолт в течение 4 месяцев после скоринга."
   ]
  },
  {
   "cell_type": "code",
   "execution_count": null,
   "id": "94c8bdea-e666-4a1f-8e40-abff85b8af47",
   "metadata": {},
   "outputs": [],
   "source": [
    "# Чтение всех JSON\n",
    "rows = []\n",
    "for file in os.listdir(\"Downloads/jsons\"):\n",
    "    if file.endswith(\".json\"):\n",
    "        with open(os.path.join(\"Downloads/jsons\", file), \"r\", encoding=\"utf-8\") as f:\n",
    "            data = json.load(f)\n",
    "            if data.get(\"modelID\") == \"pd-auto-online\":  # фильтруем только нужную модель\n",
    "                values = data[\"values\"]\n",
    "                rows.append({\n",
    "                    \"request_id\": data[\"requestID\"],\n",
    "                    \"loan_id\": data[\"loanID\"],\n",
    "                    \"event_time\": pd.to_datetime(data[\"eventTime\"]),\n",
    "                    \"final_model_score\": values.get(\"final_model_score\"),\n",
    "                    \"internal_model_score\": values.get(\"internal_model_score\"),\n",
    "                    \"external_model_score\": values.get(\"external_model_score\")\n",
    "                })\n",
    "\n",
    "df_model = pd.DataFrame(rows)\n",
    "df_model"
   ]
  },
  {
   "cell_type": "code",
   "execution_count": null,
   "id": "0af9b15e-dfe3-4cf7-9cca-f883ed197ca1",
   "metadata": {},
   "outputs": [],
   "source": []
  },
  {
   "cell_type": "code",
   "execution_count": null,
   "id": "de61668e-6c5d-439d-ae67-146f8a9693c2",
   "metadata": {},
   "outputs": [],
   "source": []
  },
  {
   "cell_type": "code",
   "execution_count": null,
   "id": "ba9bfa2f-5dad-47c1-9e3b-aaaa0e9f0e06",
   "metadata": {},
   "outputs": [],
   "source": []
  },
  {
   "cell_type": "code",
   "execution_count": null,
   "id": "d1eaff8e-1f2c-43ad-a775-3379a922c4c7",
   "metadata": {},
   "outputs": [],
   "source": []
  },
  {
   "cell_type": "code",
   "execution_count": null,
   "id": "3c048fa8-ee66-4b03-bdb9-22664371dd88",
   "metadata": {},
   "outputs": [],
   "source": []
  },
  {
   "cell_type": "code",
   "execution_count": null,
   "id": "89b6abbc-a01a-49f9-b9be-43bae14550d3",
   "metadata": {},
   "outputs": [],
   "source": []
  },
  {
   "cell_type": "code",
   "execution_count": null,
   "id": "88af6a1b-72e9-44ab-8c12-a7a55a8ead8e",
   "metadata": {},
   "outputs": [],
   "source": []
  },
  {
   "cell_type": "code",
   "execution_count": null,
   "id": "a2d06c34-a0bb-4372-9eba-42d9f14c5c8b",
   "metadata": {},
   "outputs": [],
   "source": []
  },
  {
   "cell_type": "code",
   "execution_count": null,
   "id": "78167f46-429a-410d-9453-c1e0a751b5e8",
   "metadata": {},
   "outputs": [],
   "source": []
  }
 ],
 "metadata": {
  "kernelspec": {
   "display_name": "Python [conda env:nlp]",
   "language": "python",
   "name": "conda-env-nlp-py"
  },
  "language_info": {
   "codemirror_mode": {
    "name": "ipython",
    "version": 3
   },
   "file_extension": ".py",
   "mimetype": "text/x-python",
   "name": "python",
   "nbconvert_exporter": "python",
   "pygments_lexer": "ipython3",
   "version": "3.10.18"
  }
 },
 "nbformat": 4,
 "nbformat_minor": 5
}
